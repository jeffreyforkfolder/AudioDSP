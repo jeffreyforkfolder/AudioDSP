{
 "cells": [
  {
   "cell_type": "code",
   "execution_count": 64,
   "metadata": {
    "collapsed": true
   },
   "outputs": [],
   "source": [
    "import numpy as np\n",
    "from matplotlib import pyplot as plt\n",
    "%matplotlib inline"
   ]
  },
  {
   "cell_type": "markdown",
   "metadata": {},
   "source": [
    "# Sinusoids"
   ]
  },
  {
   "cell_type": "code",
   "execution_count": 63,
   "metadata": {
    "collapsed": false
   },
   "outputs": [
    {
     "data": {
      "text/plain": [
       "<matplotlib.text.Text at 0x11f602390>"
      ]
     },
     "execution_count": 63,
     "metadata": {},
     "output_type": "execute_result"
    },
    {
     "data": {
      "image/png": "[encoded data removed]",
      "text/plain": [
       "<matplotlib.figure.Figure at 0x11f491310>"
      ]
     },
     "metadata": {},
     "output_type": "display_data"
    }
   ],
   "source": [
    "Fs = 50\n",
    "n = np.arange(Fs*1)\n",
    "alpha = 0.05\n",
    "phi = 0\n",
    "F = 3.\n",
    "s = np.sin(2. * np.pi * F * n / Fs + phi) #* np.exp(-alpha * n)\n",
    "omega = 2. * np.pi * F/ Fs\n",
    "s1 = (np.exp(omega*n*1j) - np.exp(-omega*n*1j) ) / 2j\n",
    "f, a = plt.subplots(1, 2, sharey=True, sharex=True)\n",
    "a[0].plot(n,s)\n",
    "a[0].set_xlabel(\"n in samples\")\n",
    "a[0].set_ylabel(\"Amplitude\")\n",
    "a[1].stem(n,s1.real)\n",
    "a[1].set_xlabel(\"n in samples\")\n",
    "a[1].set_ylabel(\"Amplitude\")"
   ]
  },
  {
   "cell_type": "markdown",
   "metadata": {},
   "source": [
    "# Features"
   ]
  },
  {
   "cell_type": "code",
   "execution_count": 65,
   "metadata": {
    "collapsed": false
   },
   "outputs": [
    {
     "name": "stdout",
     "output_type": "stream",
     "text": [
      "25.0\n",
      "0.707106781187\n"
     ]
    }
   ],
   "source": [
    "energy = np.dot(s, s)\n",
    "print energy\n",
    "rms = np.sqrt(energy/len(s))\n",
    "print rms"
   ]
  },
  {
   "cell_type": "code",
   "execution_count": null,
   "metadata": {
    "collapsed": true
   },
   "outputs": [],
   "source": []
  }
 ],
 "metadata": {
  "kernelspec": {
   "display_name": "Python 2",
   "language": "python",
   "name": "python2"
  },
  "language_info": {
   "codemirror_mode": {
    "name": "ipython",
    "version": 2
   },
   "file_extension": ".py",
   "mimetype": "text/x-python",
   "name": "python",
   "nbconvert_exporter": "python",
   "pygments_lexer": "ipython2",
   "version": "2.7.13"
  }
 },
 "nbformat": 4,
 "nbformat_minor": 2
}
